{
 "cells": [
  {
   "cell_type": "markdown",
   "id": "a896ef75-4730-444a-8c59-e34a8400a6d7",
   "metadata": {},
   "source": [
    "# Lab 01: Các thuật toán tìm kiếm BFS, DFS và UCS"
   ]
  },
  {
   "cell_type": "code",
   "execution_count": 1,
   "id": "ca0a99f5-b0ac-4351-b864-6a93c990a029",
   "metadata": {},
   "outputs": [],
   "source": [
    "from collections import defaultdict\n",
    "from queue import Queue, PriorityQueue"
   ]
  },
  {
   "cell_type": "markdown",
   "id": "c42fdb7d-2069-47cf-aa47-9b192723c415",
   "metadata": {},
   "source": [
    "## Program\n",
    "Cài đặt và thực thi chương trình"
   ]
  },
  {
   "cell_type": "markdown",
   "id": "200eaa43-480b-4fcd-85bd-a0d01b629409",
   "metadata": {},
   "source": [
    "**INPUT:** file `*.txt` có cấu trúc như sau:\n",
    "\n",
    "* **Dòng 1:** số node trên đồ thị\n",
    "* **Dòng 2:** node xuất phát và node đích\n",
    "* **Những dòng tiếp theo:** ma trận kề M của đồ thị với quy ước:\n",
    "    * $M[i][j] = 0$: không có đường nối trực tiếp từ i tới j.\n",
    "    * $M[i][j] = 1$: có đường nối trực tiếp từ i tới j ($M[i][j] = w$: có đường nối trực tiếp từ i tới j với chi phí là $w$ ($w > 0$) cho thuật toán UCS)"
   ]
  },
  {
   "cell_type": "markdown",
   "id": "0c153164-97bf-465e-ba7b-e602e893598d",
   "metadata": {},
   "source": [
    "Ta lần lượt đọc 2 file `Input.txt` và `InputUCS.txt` là ma trận kề của đồ thị Đại học Khoa học Tự nhiên (*v1*) tới sân bay Tân Sơn Nhất (*v18*)"
   ]
  },
  {
   "cell_type": "code",
   "execution_count": null,
   "id": "4cc53f83",
   "metadata": {},
   "outputs": [],
   "source": [
    "# convert matrix to adjacency list\n",
    "def convert_graph(a, size):\n",
    "    adjList = defaultdict(list)\n",
    "    for i in range (size):\n",
    "        edged = False\n",
    "        for j in range(len(a[i])):\n",
    "            if a[i][j] == 1:\n",
    "                adjList[i].append(j)\n",
    "                edged = True\n",
    "        if not edged:\n",
    "            adjList[i] = []\n",
    "    return adjList\n",
    "\n",
    "def convert_graph_weight(a, size):\n",
    "    adjList = defaultdict(list)\n",
    "    for i in range (size):\n",
    "        edged = False\n",
    "        for j in range(len(a[i])):\n",
    "            if a[i][j] != 0:\n",
    "                adjList[i].append((j, a[i][j]))\n",
    "                edged = True\n",
    "        if not edged:\n",
    "            adjList[i] = []\n",
    "    return adjList"
   ]
  },
  {
   "cell_type": "code",
   "execution_count": 603,
   "id": "ca22b777-31ff-4ba2-9635-1ea3c63c48cb",
   "metadata": {},
   "outputs": [],
   "source": [
    "graph_1 = convert_graph(matrix_1, size_1)\n",
    "graph_2 = convert_graph_weight(matrix_2, size_2)"
   ]
  },
  {
   "cell_type": "code",
   "execution_count": 604,
   "id": "6766beea-7271-4824-8886-d5574eb380b4",
   "metadata": {},
   "outputs": [
    {
     "data": {
      "text/plain": [
       "defaultdict(list,\n",
       "            {0: [1, 2, 3],\n",
       "             1: [6],\n",
       "             2: [5, 7],\n",
       "             3: [4],\n",
       "             4: [13],\n",
       "             5: [11],\n",
       "             6: [2],\n",
       "             7: [8, 9],\n",
       "             8: [10],\n",
       "             9: [],\n",
       "             10: [9, 14],\n",
       "             11: [12],\n",
       "             12: [13],\n",
       "             13: [10],\n",
       "             14: [15],\n",
       "             15: [16],\n",
       "             16: [17],\n",
       "             17: []})"
      ]
     },
     "execution_count": 604,
     "metadata": {},
     "output_type": "execute_result"
    }
   ],
   "source": [
    "graph_1"
   ]
  },
  {
   "cell_type": "code",
   "execution_count": 605,
   "id": "e051d12d-24e0-4aa4-ac6f-50db599a3efa",
   "metadata": {},
   "outputs": [
    {
     "data": {
      "text/plain": [
       "defaultdict(list,\n",
       "            {0: [(1, 50), (2, 350), (3, 300)],\n",
       "             1: [(6, 600)],\n",
       "             2: [(5, 100), (7, 900)],\n",
       "             3: [(4, 1300)],\n",
       "             4: [(13, 1400)],\n",
       "             5: [(11, 700)],\n",
       "             6: [(2, 800)],\n",
       "             7: [(8, 790), (9, 300)],\n",
       "             8: [(10, 1200)],\n",
       "             9: [],\n",
       "             10: [(9, 800), (14, 400)],\n",
       "             11: [(12, 950)],\n",
       "             12: [(13, 600)],\n",
       "             13: [(10, 1300)],\n",
       "             14: [(15, 1300)],\n",
       "             15: [(16, 770)],\n",
       "             16: [(17, 1200)],\n",
       "             17: []})"
      ]
     },
     "execution_count": 605,
     "metadata": {},
     "output_type": "execute_result"
    }
   ],
   "source": [
    "graph_2"
   ]
  },
  {
   "cell_type": "markdown",
   "id": "7d929c74-7240-4f58-87ab-01a8f59c4553",
   "metadata": {},
   "source": [
    "### BFS"
   ]
  },
  {
   "cell_type": "code",
   "execution_count": 608,
   "id": "95ea8ec5-167a-4680-8387-e95abc233b9e",
   "metadata": {},
   "outputs": [],
   "source": [
    "def BFS(graph, start, end):\n",
    "    visited = []\n",
    "    frontier = Queue()\n",
    "\n",
    "    # add node start into frontier and visited\n",
    "    frontier.put(start)\n",
    "    visited.append(start)\n",
    "\n",
    "    # start has no father\n",
    "    parent = dict()\n",
    "    parent[start] = None\n",
    "\n",
    "    path_found = False\n",
    "    \n",
    "    while True:\n",
    "        if frontier.empty():\n",
    "            raise Exception(\"No way Exception\")\n",
    "        current_node = frontier.get()\n",
    "        # # visited.append(current_node) \n",
    "        \n",
    "        # Check if `current_node` is `end`?\n",
    "        if current_node == end:\n",
    "            path_found = True\n",
    "            break\n",
    "\n",
    "        for node in graph[current_node]:\n",
    "            if node not in visited:\n",
    "                frontier.put(node)\n",
    "                parent[node] = current_node\n",
    "                visited.append(node)\n",
    "\n",
    "    # create path\n",
    "    path = []\n",
    "    if path_found:\n",
    "        path.append(end)\n",
    "        while parent[end] is not None:\n",
    "            path.append(parent[end])\n",
    "            end = parent[end]\n",
    "        path.reverse()\n",
    "    return path"
   ]
  },
  {
   "cell_type": "markdown",
   "id": "d00d7cb8-2e4a-4677-97fc-aaaf80ae4e8b",
   "metadata": {},
   "source": [
    "### DFS"
   ]
  },
  {
   "cell_type": "code",
   "execution_count": 610,
   "id": "cc27fad3-5879-4fcc-a482-ae44468a5f20",
   "metadata": {},
   "outputs": [],
   "source": [
    "def DFS(graph, start, end):\n",
    "\n",
    "    visited = []\n",
    "    frontier = []\n",
    "\n",
    "    # add node start into frontier and visited\n",
    "    frontier.append(start)\n",
    "    visited.append(start)\n",
    "\n",
    "    # start has no father\n",
    "    parent = dict()\n",
    "    parent[start] = None\n",
    "\n",
    "    path_found = False\n",
    "\n",
    "    while True:\n",
    "        if frontier == []:\n",
    "            raise Exception(\"No way Exception\")\n",
    "        current_node = frontier.pop()\n",
    "        # visited.append(current_node) # loại bỏ câu lệnh này\n",
    "        \n",
    "        # Check if `current_node` is `end`?\n",
    "        if current_node == end:\n",
    "            path_found = True\n",
    "            break\n",
    "\n",
    "        for node in graph[current_node]:\n",
    "            if node not in visited:\n",
    "                frontier.append(node)\n",
    "                parent[node] = current_node\n",
    "                visited.append(node)\n",
    "        \n",
    "    # create path\n",
    "    path = []\n",
    "    if path_found:\n",
    "        path.append(end)\n",
    "        while parent[end] is not None:\n",
    "            path.append(parent[end])\n",
    "            end = parent[end]\n",
    "        path.reverse()\n",
    "    return path"
   ]
  },
  {
   "cell_type": "markdown",
   "id": "58e650bb-afff-47a3-8bd4-15e8d8fe940e",
   "metadata": {},
   "source": [
    "### UCS"
   ]
  },
  {
   "cell_type": "code",
   "execution_count": 612,
   "id": "66db81a8-42e6-401f-a44f-8a063dea337f",
   "metadata": {},
   "outputs": [],
   "source": [
    "def UCS(graph, start, end):\n",
    "\n",
    "    visited = {} # change visited to dict where each node stores ('total_cost', 'parent')\n",
    "    frontier = PriorityQueue()\n",
    "\n",
    "    # add node start into frontier and visited\n",
    "    frontier.put((0, start))\n",
    "    visited[start] = (0, None) # start has no father.\n",
    "\n",
    "    path_found = False\n",
    "    \n",
    "    while True:\n",
    "        if frontier.empty():\n",
    "            raise Exception(\"No way Exception\")\n",
    "        current_w, current_node = frontier.get()\n",
    "        \n",
    "        # Check if `current_node` is `end`?\n",
    "        if current_node == end:\n",
    "            path_found = True\n",
    "            break\n",
    "\n",
    "        for nodei in graph[current_node]:\n",
    "            node, weight = nodei\n",
    "            total_cost = current_w + weight\n",
    "            if node not in visited or total_cost < visited[node][0]:\n",
    "                frontier.put((total_cost, node))\n",
    "                # update node in visited\n",
    "                visited[node] = (total_cost, current_node)\n",
    "\n",
    "    # create path\n",
    "    path = []\n",
    "    if path_found:\n",
    "        path.append(end)\n",
    "        while visited[end][1] is not None:\n",
    "            path.append(visited[end][1])\n",
    "            end = visited[end][1]\n",
    "        path.reverse()\n",
    "    return current_w, path"
   ]
  },
  {
   "cell_type": "markdown",
   "id": "ce906163",
   "metadata": {},
   "source": [
    "### Result\n",
    "\n",
    "* Nếu tồn tại đường đi: xuất ra màn hình thứ tự đường đi từ *v1* tới *v18*.\n",
    "* Nếu không tồn tại đường đi: thông báo không có đường đi"
   ]
  },
  {
   "cell_type": "code",
   "execution_count": null,
   "id": "0e0186dd",
   "metadata": {},
   "outputs": [],
   "source": [
    "# Implement BFS algorithm\n",
    "result_bfs = BFS(graph_1, start_1, goal_1)\n",
    "print(\"Kết quả sử dụng thuật toán BFS: \\n\", result_bfs)\n",
    "\n",
    "# Implement DFS algorithm\n",
    "result_dfs = DFS(graph_1, start_1, goal_1)\n",
    "print(\"Kết quả sử dụng thuật toán DFS: \\n\", result_dfs)\n",
    "\n",
    "# Implement UCS algorithm\n",
    "cost, result_ucs = UCS(graph_2, start_2, goal_2)\n",
    "print(\"Kết quả sử dụng thuật toán UCS: \\n\", result_ucs, \"với tổng số chi phí là\", cost)"
   ]
  },
  {
   "cell_type": "markdown",
   "id": "7cc79598-99f5-4fe1-aee0-9a3737ba525c",
   "metadata": {},
   "source": [
    "## Xây dựng class Graph\n",
    "\n",
    "Xây dựng 2 class: \n",
    "1. **class Graph** với các methods sau:\n",
    "   * print_graph: in ra đồ thị\n",
    "   * BFS: trả về thứ tự duyệt đồ thị bằng thuật toán BFS\n",
    "   * find_BFS_path: giải quyết bài toán tìm đường đi bằng thuật toán BFS\n",
    "   * DFS: trả về thứ tự duyệt đồ thị bằng thuật toán DFS\n",
    "   * find_DFS_path: giải quyết bài toán tìm đường đi bằng thuật toán DFS\n",
    "   * reconstruct_path: truy vết đường đi của các thuật toán\n",
    "\n",
    "2. **class Graph_Weight** với các methods sau:\n",
    "   * print_graph: in ra đồ thị\n",
    "   * find_UCS_path: giải quyết bài toán tìm đường đi với chi phí thấp nhất bằng thuật toán UCS\n",
    "   * reconstruct_path: truy vết đường đi của các thuật toán"
   ]
  },
  {
   "cell_type": "markdown",
   "id": "7c59c4f0-06e9-4859-afe2-d8424e65e7c9",
   "metadata": {},
   "source": [
    "### class Graph"
   ]
  },
  {
   "cell_type": "code",
   "execution_count": 615,
   "id": "07f1bdb0-71dc-48b0-a6ab-e8ea9c03e498",
   "metadata": {},
   "outputs": [],
   "source": [
    "class Graph:\n",
    "    def __init__(self, graph=None):\n",
    "        if graph is None:\n",
    "            self.graph = defaultdict(list)\n",
    "        else:\n",
    "            self.graph = graph\n",
    "\n",
    "    def convert_graph(self, a, size):\n",
    "        adjList = defaultdict(list)\n",
    "        for i in range (size):\n",
    "            edged = False\n",
    "            for j in range(len(a[i])):\n",
    "                if a[i][j] == 1:\n",
    "                    adjList[i].append(j)\n",
    "                    edged = True\n",
    "            if not edged:\n",
    "                adjList[i] = []\n",
    "        self.graph = adjList\n",
    "\n",
    "    def print_graph(self):\n",
    "        return self.graph\n",
    "        # for node, neighbors in self.graph.items():\n",
    "        #     print(f\"{node}: [{', '.join(map(str, neighbors))}]\")\n",
    "    \n",
    "    def BFS(self, start):\n",
    "        browsed = []\n",
    "        visited = [False] * (len(self.graph)+1)\n",
    "        frontier = Queue()\n",
    "\n",
    "        # add node start into frontier and visited\n",
    "        frontier.put(start)\n",
    "        visited[start] = True\n",
    "\n",
    "        while not frontier.empty():\n",
    "            current_node = frontier.get()\n",
    "            browsed.append(current_node) \n",
    "            \n",
    "            for node in self.graph[current_node]:\n",
    "                if visited[node] == False:\n",
    "                    frontier.put(node)\n",
    "                    visited[node] = True\n",
    "        return browsed\n",
    "\n",
    "    def find_BFS_path(self, start, end):\n",
    "        visited = []\n",
    "        frontier = Queue()\n",
    "    \n",
    "        # add node start into frontier and visited\n",
    "        frontier.put(start)\n",
    "        visited.append(start)\n",
    "    \n",
    "        # start has no father\n",
    "        parent = dict()\n",
    "        parent[start] = None\n",
    "        \n",
    "        while True:\n",
    "            if frontier.empty():\n",
    "                raise Exception(\"No way Exception\")\n",
    "                return None\n",
    "            current_node = frontier.get()\n",
    "            \n",
    "            # Check if `current_node` is `end`?\n",
    "            if current_node == end:\n",
    "                return self.reconstruct_path(parent, end)\n",
    "    \n",
    "            for node in self.graph[current_node]:\n",
    "                if node not in visited:\n",
    "                    frontier.put(node)\n",
    "                    parent[node] = current_node\n",
    "                    visited.append(node)\n",
    "\n",
    "    def DFS(self, start):\n",
    "        browsed = []\n",
    "        visited = {key: False for key in self.graph}\n",
    "        frontier = []\n",
    "\n",
    "        # add node start into frontier and visited\n",
    "        frontier.append(start)\n",
    "        visited[start] = True\n",
    "\n",
    "        while frontier:\n",
    "            current_node = frontier.pop()\n",
    "            browsed.append(current_node) \n",
    "            \n",
    "            for node in self.graph[current_node]:\n",
    "                if visited[node] == False:\n",
    "                    frontier.append(node)\n",
    "                    visited[node] = True\n",
    "        return browsed\n",
    "\n",
    "    def find_DFS_path(self, start, end):\n",
    "        visited = []\n",
    "        frontier = []\n",
    "    \n",
    "        # add node start into frontier and visited\n",
    "        frontier.append(start)\n",
    "        visited.append(start)\n",
    "    \n",
    "        # start has no father\n",
    "        parent = dict()\n",
    "        parent[start] = None\n",
    "    \n",
    "        while True:\n",
    "            if frontier == []:\n",
    "                raise Exception(\"No way Exception\")\n",
    "                return None\n",
    "            current_node = frontier.pop()\n",
    "            # # visited.append(current_node)\n",
    "            \n",
    "            # Check if `current_node` is `end`?\n",
    "            if current_node == end:\n",
    "                return self.reconstruct_path(parent, end)\n",
    "    \n",
    "            for node in self.graph[current_node]:\n",
    "                if node not in visited:\n",
    "                    frontier.append(node)\n",
    "                    parent[node] = current_node\n",
    "                    visited.append(node)\n",
    "                    \n",
    "    def reconstruct_path(self, parent, end):\n",
    "        path = []\n",
    "        path.append(end)\n",
    "        while parent[end] is not None:\n",
    "            path.append(parent[end])\n",
    "            end = parent[end]\n",
    "        path.reverse()\n",
    "        return path\n",
    "    "
   ]
  },
  {
   "cell_type": "code",
   "execution_count": 616,
   "id": "e68c07d5-6602-4755-b88f-a42f13caa2ed",
   "metadata": {},
   "outputs": [
    {
     "data": {
      "text/plain": [
       "defaultdict(list,\n",
       "            {0: [1, 2, 3],\n",
       "             1: [6],\n",
       "             2: [5, 7],\n",
       "             3: [4],\n",
       "             4: [13],\n",
       "             5: [11],\n",
       "             6: [2],\n",
       "             7: [8, 9],\n",
       "             8: [10],\n",
       "             9: [],\n",
       "             10: [9, 14],\n",
       "             11: [12],\n",
       "             12: [13],\n",
       "             13: [10],\n",
       "             14: [15],\n",
       "             15: [16],\n",
       "             16: [17],\n",
       "             17: []})"
      ]
     },
     "execution_count": 616,
     "metadata": {},
     "output_type": "execute_result"
    }
   ],
   "source": [
    "G = Graph(graph_1)\n",
    "G.print_graph()"
   ]
  },
  {
   "cell_type": "code",
   "execution_count": 617,
   "id": "0fa997f9-4770-4221-98f1-fdd979d7a53a",
   "metadata": {},
   "outputs": [
    {
     "name": "stdout",
     "output_type": "stream",
     "text": [
      "Thứ tự duyệt đồ thị bắt đầu từ nút 0 của thuật toán BFS:\n",
      "[0, 1, 2, 3, 6, 5, 7, 4, 11, 8, 9, 13, 12, 10, 14, 15, 16, 17]\n"
     ]
    }
   ],
   "source": [
    "print('Thứ tự duyệt đồ thị bắt đầu từ nút 0 của thuật toán BFS:')\n",
    "print(G.BFS(0))"
   ]
  },
  {
   "cell_type": "code",
   "execution_count": 618,
   "id": "bf97c3d0-210f-43e6-aac2-1a126d95994c",
   "metadata": {},
   "outputs": [
    {
     "name": "stdout",
     "output_type": "stream",
     "text": [
      "Thứ tự duyệt đồ thị bắt đầu từ nút 0 của thuật toán DFS:\n"
     ]
    },
    {
     "data": {
      "text/plain": [
       "[0, 3, 4, 13, 10, 14, 15, 16, 17, 9, 2, 7, 8, 5, 11, 12, 1, 6]"
      ]
     },
     "execution_count": 618,
     "metadata": {},
     "output_type": "execute_result"
    }
   ],
   "source": [
    "print('Thứ tự duyệt đồ thị bắt đầu từ nút 0 của thuật toán DFS:')\n",
    "G.DFS(0)"
   ]
  },
  {
   "cell_type": "code",
   "execution_count": 619,
   "id": "d263331f-e718-4aaf-a10e-fb17c460286e",
   "metadata": {},
   "outputs": [
    {
     "name": "stdout",
     "output_type": "stream",
     "text": [
      "Kết quả đường đi của thuật toán BFS:\n"
     ]
    },
    {
     "data": {
      "text/plain": [
       "[0, 2, 7, 8, 10, 14, 15, 16, 17]"
      ]
     },
     "execution_count": 619,
     "metadata": {},
     "output_type": "execute_result"
    }
   ],
   "source": [
    "print('Kết quả đường đi của thuật toán BFS:')\n",
    "G.find_BFS_path(0, 17)"
   ]
  },
  {
   "cell_type": "code",
   "execution_count": 620,
   "id": "407a9888-7c8c-4c79-aa70-38f01f29b1ed",
   "metadata": {},
   "outputs": [
    {
     "name": "stdout",
     "output_type": "stream",
     "text": [
      "Kết quả đường đi của thuật toán DFS:\n"
     ]
    },
    {
     "data": {
      "text/plain": [
       "[0, 3, 4, 13, 10, 14, 15, 16, 17]"
      ]
     },
     "execution_count": 620,
     "metadata": {},
     "output_type": "execute_result"
    }
   ],
   "source": [
    "print('Kết quả đường đi của thuật toán DFS:')\n",
    "G.find_DFS_path(0, 17)"
   ]
  },
  {
   "cell_type": "markdown",
   "id": "8b8e918d-ef61-4460-9cbe-3f173b7ef6f7",
   "metadata": {},
   "source": [
    "### class Graph_Weight"
   ]
  },
  {
   "cell_type": "code",
   "execution_count": 622,
   "id": "e0f719f5-6d02-4117-a505-cea60f46419e",
   "metadata": {},
   "outputs": [],
   "source": [
    "class Graph_Weight:\n",
    "    def __init__(self, graph=None):\n",
    "        if graph is None:\n",
    "            self.graph = defaultdict(list)\n",
    "        else:\n",
    "            self.graph = graph\n",
    "\n",
    "    def convert_graph_weight(self, a, size):\n",
    "        adjList = defaultdict(list)\n",
    "        for i in range (size):\n",
    "            edged = False\n",
    "            for j in range(len(a[i])):\n",
    "                if a[i][j] != 0:\n",
    "                    adjList[i].append((j, a[i][j]))\n",
    "                    edged = True\n",
    "            if not edged:\n",
    "                adjList[i] = []\n",
    "        self.graph = adjList\n",
    "    \n",
    "    def print_graph(self):\n",
    "        return self.graph\n",
    "        # for node, edges in self.graph.items():\n",
    "        #     edge_list = [f\"({neighbor}, {weight})\" for neighbor, weight in edges]\n",
    "        #     print(f\"{node}: [{', '.join(edge_list)}]\")\n",
    "\n",
    "    def find_UCS_path(self, start, end):\n",
    "        visited = {} # change visited to dict where each node stores ('total_cost', 'parent')\n",
    "        frontier = PriorityQueue()\n",
    "    \n",
    "        # add node start into frontier and visited\n",
    "        frontier.put((0, start))\n",
    "        visited[start] = (0, None) # start has no father.\n",
    "        \n",
    "        while True:\n",
    "            if frontier.empty():\n",
    "                raise Exception(\"No way Exception\")\n",
    "                return None\n",
    "            current_w, current_node = frontier.get()\n",
    "            \n",
    "            # Check if `current_node` is `end`?\n",
    "            if current_node == end:\n",
    "                return self.reconstruct_path(visited, end)\n",
    "    \n",
    "            for nodei in self.graph[current_node]:\n",
    "                node, weight = nodei\n",
    "                total_cost = current_w + weight\n",
    "                if node not in visited or total_cost < visited[node][0]:\n",
    "                    frontier.put((total_cost, node))\n",
    "                    # update node in visited\n",
    "                    visited[node] = (total_cost, current_node)\n",
    "                    \n",
    "    def reconstruct_path(self, visited, end):\n",
    "        path = []\n",
    "        total_cost = visited[end][0]\n",
    "        path.append(end)\n",
    "        while visited[end][1] is not None:\n",
    "            path.append(visited[end][1])\n",
    "            end = visited[end][1]\n",
    "        path.reverse()\n",
    "        return total_cost, path\n",
    "    "
   ]
  },
  {
   "cell_type": "code",
   "execution_count": 623,
   "id": "37992f65-9369-4a4f-a49d-b3f498be0edb",
   "metadata": {},
   "outputs": [
    {
     "data": {
      "text/plain": [
       "defaultdict(list,\n",
       "            {0: [(1, 50), (2, 350), (3, 300)],\n",
       "             1: [(6, 600)],\n",
       "             2: [(5, 100), (7, 900)],\n",
       "             3: [(4, 1300)],\n",
       "             4: [(13, 1400)],\n",
       "             5: [(11, 700)],\n",
       "             6: [(2, 800)],\n",
       "             7: [(8, 790), (9, 300)],\n",
       "             8: [(10, 1200)],\n",
       "             9: [],\n",
       "             10: [(9, 800), (14, 400)],\n",
       "             11: [(12, 950)],\n",
       "             12: [(13, 600)],\n",
       "             13: [(10, 1300)],\n",
       "             14: [(15, 1300)],\n",
       "             15: [(16, 770)],\n",
       "             16: [(17, 1200)],\n",
       "             17: []})"
      ]
     },
     "execution_count": 623,
     "metadata": {},
     "output_type": "execute_result"
    }
   ],
   "source": [
    "GW = Graph_Weight(graph_2)\n",
    "GW.print_graph()"
   ]
  },
  {
   "cell_type": "code",
   "execution_count": 624,
   "id": "d845b91c-df55-435a-99da-f1b4513fdbe5",
   "metadata": {},
   "outputs": [
    {
     "name": "stdout",
     "output_type": "stream",
     "text": [
      "Kết quả đường đi ngắn nhất bằng thuật toán UCS: [0, 2, 7, 8, 10, 14, 15, 16, 17], với tổng chi phí tối ưu: 6910\n"
     ]
    }
   ],
   "source": [
    "total_cost, path = GW.find_UCS_path(0, 17)\n",
    "print(f'Kết quả đường đi ngắn nhất bằng thuật toán UCS: {path}, với tổng chi phí tối ưu: {total_cost}')"
   ]
  }
 ],
 "metadata": {
  "kernelspec": {
   "display_name": "Python 3",
   "language": "python",
   "name": "python3"
  },
  "language_info": {
   "codemirror_mode": {
    "name": "ipython",
    "version": 3
   },
   "file_extension": ".py",
   "mimetype": "text/x-python",
   "name": "python",
   "nbconvert_exporter": "python",
   "pygments_lexer": "ipython3",
   "version": "3.9.13"
  }
 },
 "nbformat": 4,
 "nbformat_minor": 5
}
